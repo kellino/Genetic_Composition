{
 "cells": [
  {
   "cell_type": "markdown",
   "metadata": {},
   "source": [
    "# The Apple Never Falls Far From The Tree\n",
    "## Music concrete for the digital age"
   ]
  },
  {
   "cell_type": "markdown",
   "metadata": {},
   "source": [
    "An algorithmic composition using a simple genetic mutation algorithm, drawing very heavily (at least in terms of its sound world, rather than techniques) from the excellent *It's Gonna Rain* by Steve Reich.\n",
    "\n",
    "So, let's start...\n",
    "\n",
    "Import everything we need to make a piece of music concrete. Pydub is perhaps the most important module, as it allows us to store and play with audio fragments. Numpy is not strickly necessary, but it should speed the code up a little. Namedtuple however is an incredibly useful datastructure that allows us to avoid nasty, impenetrable things like temp[i][j][0] - which I find very difficult to understand"
   ]
  },
  {
   "cell_type": "code",
   "execution_count": 1,
   "metadata": {
    "collapsed": true
   },
   "outputs": [],
   "source": [
    "import logging\n",
    "import random\n",
    "import numpy as np\n",
    "from os import path\n",
    "from sys import exit\n",
    "from collections import namedtuple\n",
    "from pydub import AudioSegment as AS\n",
    "from pydub import playback as pb"
   ]
  },
  {
   "cell_type": "markdown",
   "metadata": {},
   "source": [
    "Next a Sampler class. Pydub needs to know what type of file you are passing it (wav, ogg, mp3, etc), so we cannot make this truly generic. Let's include functions for ogg and wav, though more could be added."
   ]
  },
  {
   "cell_type": "code",
   "execution_count": null,
   "metadata": {
    "collapsed": true
   },
   "outputs": [],
   "source": [
    "class Sampler:\n",
    "    def get_ogg_sample(self, filepath):\n",
    "        if path.exists(filepath):\n",
    "            segment = AS.from_ogg(filepath)\n",
    "            return segment\n",
    "        else:\n",
    "            logging.debug(\"Unable to find file {}\".format(filepath)\n",
    "            exit(1)\n",
    "    \n",
    "    def get_wav_sample(self, filepath):\n",
    "        if path.exists(filepath):\n",
    "            segment = AS.from_wav(filepath)\n",
    "            return segment\n",
    "        else:\n",
    "            logging.debug(\"Unable to find file {}\".format(filepath))\n",
    "            exit(1)"
   ]
  },
  {
   "cell_type": "markdown",
   "metadata": {},
   "source": [
    "A named tuple allows us to store useful information about the *chunked* audio sections. Because we are going to use a genetic mutation algorithm, we need to store some information about the original, ideal, ordering of the chunks. This is stored in \"rank\", which is simply the duration of the chunk expressed as a floating point number. Note that each rank needs to be unique, otherwise there's no easy way to distinuish them (without accessing another field in the tuple of course)."
   ]
  },
  {
   "cell_type": "code",
   "execution_count": null,
   "metadata": {
    "collapsed": true
   },
   "outputs": [],
   "source": [
    "def split_sample(self, segment):\n",
    "    \"\"\"splits the selected piece of audio into different sections\n",
    "        storing them in a dictionary\"\"\"\n",
    "    chunk = namedtuple('chunk', 'text rank section')\n",
    "    words = {}\n",
    "    words[0] = chunk('i', 0.35, segment[2000:2350])\n",
    "    words[1] = chunk('will', 0.65, segment[2350:3000])\n",
    "    words[2] = chunk('give', 0.9, segment[3000:3900])\n",
    "    words[3] = chunk('my', 1.0, segment[4000:5000])\n",
    "    words[4] = chunk('love', 0.5, segment[5000:5500])\n",
    "    words[5] = chunk('an', 0.6, segment[5500:6100])\n",
    "    words[6] = chunk('apple', 1100, segment[6100:7200])\n",
    "    words[7] = chunk('pause', 0.8, segment[0:800])\n",
    "    return words"
   ]
  },
  {
   "cell_type": "markdown",
   "metadata": {},
   "source": [
    "The Composer class does the actual work of composition. Because we are dealing with a large number of short audio fragments, it makes sense to append newly composed sections to one master composition list."
   ]
  },
  {
   "cell_type": "code",
   "execution_count": null,
   "metadata": {
    "collapsed": true
   },
   "outputs": [],
   "source": [
    "class Composer:\n",
    "    def __init__(self):\n",
    "        self.sampler = Sampler()\n",
    "        # stores the in-progress composition\n",
    "        self.composition = []"
   ]
  },
  {
   "cell_type": "markdown",
   "metadata": {},
   "source": [
    "The melody of the original is quite repetitive and circumscribed in *tessitura* so a pure (that is, rigorously correct) markov chain leads to a very boring piece of music. The following has been *massaged* to reduce tedium. This is a problem with markov chains in general - they don't possess enough memory about previous events, or rather, they only have short-term memory, whereas we are looking for long-term. The numbers represent a human-controlled balance between text and pitch information."
   ]
  },
  {
   "cell_type": "code",
   "execution_count": null,
   "metadata": {
    "collapsed": true
   },
   "outputs": [],
   "source": [
    "self.markov = {0 : [0, 0.33, 0.18, 0, 0.143, 0.2, 0.143],\n",
    "               1 : [0.3, 0, 0.6, 0, 0.1, 0, 0],\n",
    "               2 : [0, 0.1, 0.33, 0.3, 0, 0.28, 0],\n",
    "               3 : [0.2, 0, 0.2, 0.33, 0.15, 0.12, 0],\n",
    "               4 : [0.24, 0.3, 0, 0.2, 0.26, 0, 0],\n",
    "               5 : [0.2, 0, 0.32, 0, 0.48, 0, 0],\n",
    "               6 : [0, 0, 0.25, 0, 0.25, 0, 0.5]\n",
    "               }"
   ]
  },
  {
   "cell_type": "markdown",
   "metadata": {},
   "source": [
    "This is not primarily a composition focussing on the use of markov chains. They are used in the initial development to demonstrate the limitations of the (admittedly naive) approach. Instead we are interested in random mutation. For that, we need a population, and - of course - individuals."
   ]
  },
  {
   "cell_type": "code",
   "execution_count": null,
   "metadata": {
    "collapsed": true
   },
   "outputs": [],
   "source": [
    "def individual(self, words):\n",
    "    \"\"\" generate a randomized member of population \"\"\"\n",
    "    wordlist = [v for k, v in words.iteritems()]\n",
    "    random.shuffle(wordlist)\n",
    "    individual = []\n",
    "    for i in xrange(len(wordlist)):\n",
    "        if i % 2 == 0:\n",
    "            wordlist[i].section.reverse()\n",
    "            individual.append(wordlist[i])\n",
    "        elif i % 3 == 0:\n",
    "            wordlist[i].section.fade_in(400).fade_out(100)\n",
    "            individual.append(wordlist[i])\n",
    "        else:\n",
    "            individual.append(wordlist[i])\n",
    "    return individualdef markov(self, words, seed=6):\n",
    "    # add the seed, defaults to give\n",
    "    self.composition.append(words[seed])\n",
    "    for i in xrange(49):   # there's nothing significant about 49 here\n",
    "        randFloat = random.uniform(0, 1):\n",
    "            for j in range(len(self.markov[seed])):\n",
    "                if randFloat < self.markov[seed][j]:\n",
    "                    seed = j\n",
    "                    self.composition.append(self.markov[seed])\n",
    "                    break\n",
    "                else:\n",
    "                    self.composition.append(self.markov[seed])"
   ]
  },
  {
   "cell_type": "markdown",
   "metadata": {},
   "source": [
    "A population is a collection of individuals (at least here, I don't know what a sociologist would say of this definition)"
   ]
  },
  {
   "cell_type": "code",
   "execution_count": null,
   "metadata": {
    "collapsed": true
   },
   "outputs": [],
   "source": [
    "def population(self, words, count):\n",
    "    return [self.individual(words) for x in xrange(count)]    "
   ]
  },
  {
   "cell_type": "markdown",
   "metadata": {},
   "source": [
    "To measure the fitness of an individual we need to compare it to the original *ur-fragment*. We can use the rank information stored in the named tuple to make this easy."
   ]
  },
  {
   "cell_type": "code",
   "execution_count": null,
   "metadata": {
    "collapsed": true
   },
   "outputs": [],
   "source": [
    "def get_deviation(self, individual):\n",
    "    \"\"\" deviation of member of population \"\"\"\n",
    "    return np.abs(reduce((lambda x, y: x - y), [x.rank for x in individual]))\n",
    "    \n",
    "def fitness(self, target, deviation):\n",
    "    return np.abs(target - deviation)\n",
    "    \n",
    "def grade(self, population, target):\n",
    "    \"\"\" deviation of the population as a whole.\"\"\"\n",
    "    mean = np.mean([self.get_deviation(x) for x in population])\n",
    "    mean = np.round(mean)\n",
    "    return self.fitness(target, mean)"
   ]
  },
  {
   "cell_type": "markdown",
   "metadata": {},
   "source": [
    "Apples are an extraordinary plant: if we take a Granny Smith and plant it, we do not get a Granny Smith tree in return. We get a completely unqiue tree, with unique fruit. All Granny Smiths in the world originate from cuttings from the original Granny Smith tree. With this in mind, let's mutate our *apples* in a similar way, taking a member of the population and either planting a cutting (ie do not mutate) or plant the fruit itself (send it through the individual generator again)."
   ]
  },
  {
   "cell_type": "code",
   "execution_count": null,
   "metadata": {
    "collapsed": true
   },
   "outputs": [],
   "source": [
    "def mutate(self, population, target, extinct=20, mutate=40):\n",
    "    # first find the fitness levels of each member of the population\n",
    "    graded = [self.get_deviation(x) for x in population]\n",
    "    graded = [self.fitness(target, d) for d in graded]\n",
    "\n",
    "    rand = random.randint(0, 100)\n",
    "\n",
    "    if rand > extinct:\n",
    "    # find the member of the population with the best fitness (ie, the one with the smallest\n",
    "    # deviation from the target)\n",
    "        fittest_index = graded.index(min(graded))\n",
    "        fittest = population[fittest_index]\n",
    "    else:\n",
    "    # the fittest can sometimes die out, through no real fault of its own. Let's factor that in\n",
    "    # and assume that the least similar - ie the most genetically diverse - manages to survive\n",
    "        fittest_index = graded.index(max(graded))\n",
    "        fittest = population[fittest_index]\n",
    "\n",
    "    # mutation may or may not occur between generations, and may be benficial, or not...\n",
    "    rand = random.randint(0, 100)\n",
    "\n",
    "    if rand < mutate:\n",
    "        # individual expects a dictionary, so let's convert our fittest member back to this form\n",
    "        words = {i: fittest[i] for i in xrange(0, len(fittest))}\n",
    "        fittest = self.individual(words)\n",
    "        # replace the previous fittest with the new fittest\n",
    "        graded[fittest_index] = fittest\n",
    "\n",
    "    return population\n"
   ]
  },
  {
   "cell_type": "markdown",
   "metadata": {},
   "source": [
    "The markov matrix generated earlier is used in the development. Let's (loosely) follow sonata form."
   ]
  },
  {
   "cell_type": "code",
   "execution_count": null,
   "metadata": {
    "collapsed": true
   },
   "outputs": [],
   "source": [
    "def markov_chain(self, words, seed=3):\n",
    "    # add the seed, defaults to apple\n",
    "    self.composition.append(words[seed].section)\n",
    "    for i in xrange(27):\n",
    "        randFloat = random.uniform(0, 1)\n",
    "        temp = sorted(self.markov[seed])\n",
    "        for j in range(len(temp)):\n",
    "            if randFloat <= temp[j]:\n",
    "                index = self.markov[seed].index(temp[j])\n",
    "                seed = index\n",
    "                logging.debug(\"seed is {}\".format(seed))\n",
    "                break\n",
    "        self.composition.append(words[seed].section)\n",
    "    \n",
    "def get_original(self):\n",
    "    segment = self.sampler.get_ogg_sample('./I will give my love an apple')\n",
    "    words = self.sampler.split_sample(segment)\n",
    "    return segment, words"
   ]
  },
  {
   "cell_type": "markdown",
   "metadata": {},
   "source": [
    "repetition is extremely important in a piece of music (though there are certainly those who would disagree with that statement). Let's start with some lightly randomized repetition."
   ]
  },
  {
   "cell_type": "code",
   "execution_count": 19,
   "metadata": {
    "collapsed": true
   },
   "outputs": [],
   "source": [
    "def introduction(self, repeat=20):\n",
    "    original, words = self.get_original()\n",
    "    self.composition.append(original[2000:25000])\n",
    "        \n",
    "    rand = random.randint(2, 4)\n",
    "    wordlist = [v.section for k, v in words.iteritems()]\n",
    "    for i in range(rand):\n",
    "        for word in wordlist:\n",
    "            if i == 0:\n",
    "                self.composition.append(word)\n",
    "            else:\n",
    "                new_rand = random.randint(0, 100)\n",
    "                if new_rand < repeat:\n",
    "                    self.composition.append(word)\n",
    "                    self.composition.append(word)\n",
    "                else:\n",
    "                    self.composition.append(word)\n",
    "    # repeat the original again just to cement it in the brain\n",
    "    for word in wordlist:\n",
    "        self.composition.append(word)\n",
    "                    "
   ]
  },
  {
   "cell_type": "markdown",
   "metadata": {},
   "source": [
    "And here is the complete code"
   ]
  },
  {
   "cell_type": "code",
   "execution_count": 2,
   "metadata": {
    "collapsed": false
   },
   "outputs": [],
   "source": [
    "import logging\n",
    "import random\n",
    "import numpy as np\n",
    "from os import path\n",
    "from sys import exit\n",
    "from collections import namedtuple\n",
    "from pydub import AudioSegment as AS\n",
    "from pydub import playback as pb\n",
    "from pydub import effects as ef\n",
    "from functools import reduce\n",
    "\n",
    "logging.basicConfig(format='%(levelname)s:%(message)s', level=logging.DEBUG)\n",
    "\n",
    "\n",
    "class Sampler:\n",
    "    def get_ogg_sample(self, filepath):\n",
    "        if path.exists(filepath):\n",
    "            segment = AS.from_ogg(filepath)\n",
    "            return segment\n",
    "        else:\n",
    "            logging.debug(\"Unable to find file {}\".format(filepath))\n",
    "            exit(1)\n",
    "\n",
    "    def get_wav_sample(self, filepath):\n",
    "        if path.exists(filepath):\n",
    "            segment = AS.from_wav(filepath)\n",
    "            return segment\n",
    "        else:\n",
    "            logging.debug(\"Unable to find file {}\".format(filepath))\n",
    "            exit(1)\n",
    "\n",
    "    def split_sample(self, segment):\n",
    "        \"\"\"splits the selected piece of audio into different sections\n",
    "           storing them in a dictionary\"\"\"\n",
    "        chunk = namedtuple('chunk', 'text rank section')\n",
    "        words = {}\n",
    "        words[0] = chunk('i', 0.35, segment[2000:2350])\n",
    "        words[1] = chunk('will', 0.65, segment[2350:3000])\n",
    "        words[2] = chunk('give', 0.9, segment[3000:3900])\n",
    "        words[3] = chunk('my', 1.0, segment[4000:5000])\n",
    "        words[4] = chunk('love', 0.5, segment[5000:5500])\n",
    "        words[5] = chunk('an', 0.6, segment[5500:6100])\n",
    "        words[6] = chunk('apple', 1100, segment[6100:7200])\n",
    "        return words\n",
    "\n",
    "\n",
    "class Composer:\n",
    "    def __init__(self):\n",
    "        self.sampler = Sampler()\n",
    "        # stores the in-progress composition\n",
    "        self.composition = []\n",
    "        # the probability matrix started as a quite literal reading of pitch probability\n",
    "        # but this led to an intolerable amount of repetition, so this is rather more\n",
    "        # hand-crafted\n",
    "        self.markov = {0 : [0, 0.33, 0.18, 0, 0.143, 0.2, 0.143],\n",
    "                       1 : [0.3, 0, 0.6, 0, 0.1, 0, 0],\n",
    "                       2 : [0, 0.1, 0.33, 0.3, 0, 0.28, 0],\n",
    "                       3 : [0.2, 0, 0.2, 0.33, 0.15, 0.12, 0],\n",
    "                       4 : [0.24, 0.3, 0, 0.2, 0.26, 0, 0],\n",
    "                       5 : [0.2, 0, 0.32, 0, 0.48, 0, 0],\n",
    "                       6 : [0, 0, 0.25, 0, 0.25, 0, 0.5]\n",
    "                      }\n",
    "\n",
    "    def individual(self, words):\n",
    "        \"\"\" generate a randomized member of population \"\"\"\n",
    "        wordlist = [v for k, v in words.items()]\n",
    "        random.shuffle(wordlist)\n",
    "        individual = []\n",
    "        for i in range(len(wordlist)):\n",
    "            if i % 2 == 0:\n",
    "                wordlist[i].section.reverse()\n",
    "                individual.append(wordlist[i])\n",
    "            elif i % 3 == 0:\n",
    "                wordlist[i].section.fade_in(400).fade_out(100)\n",
    "                individual.append(wordlist[i])\n",
    "            else:\n",
    "                individual.append(wordlist[i])\n",
    "        return individual\n",
    "\n",
    "    def population(self, words, count):\n",
    "        return [self.individual(words) for x in range(count)]\n",
    "\n",
    "    def get_deviation(self, individual):\n",
    "        \"\"\" deviation of member of population \"\"\"\n",
    "        return np.abs(reduce((lambda x, y: x - y), [x.rank for x in individual]))\n",
    "\n",
    "    def fitness(self, target, deviation):\n",
    "        return np.abs(target - deviation)\n",
    "\n",
    "    def grade(self, population, target):\n",
    "        \"\"\" deviation of the population as a whole. \"\"\"\n",
    "        mean = np.mean([self.get_deviation(x) for x in population])\n",
    "        mean = np.round(mean)\n",
    "        return self.fitness(target, mean)\n",
    "\n",
    "    def mutate(self, population, target, extinct=20, mutate=40):\n",
    "        # first find the fitness levels of each member of the population\n",
    "        graded = [self.get_deviation(x) for x in population]\n",
    "        graded = [self.fitness(target, d) for d in graded]\n",
    "\n",
    "        rand = random.randint(0, 100)\n",
    "\n",
    "        if rand > extinct:\n",
    "            # find the member of the population with the best fitness \n",
    "            # (ie, the one with the smallest\n",
    "            # deviation from the target)\n",
    "            fittest_index = graded.index(min(graded))\n",
    "            fittest = population[fittest_index]\n",
    "        else:\n",
    "            # the fittest can sometimes die out, through no real \n",
    "            # fault of its own. Let's factor that in\n",
    "            # and assume that the least similar - ie the most \n",
    "            # genetically diverse - manages to survive\n",
    "            fittest_index = graded.index(max(graded))\n",
    "            fittest = population[fittest_index]\n",
    "\n",
    "        # mutation may or may not occur between generations, and \n",
    "        # may be benficial, or not...\n",
    "        rand = random.randint(0, 100)\n",
    "\n",
    "        if rand < mutate:\n",
    "            # individual expects a dictionary, so let's convert our \n",
    "            # fittest member back to this form\n",
    "            words = {i: fittest[i] for i in range(0, len(fittest))}\n",
    "            fittest = self.individual(words)\n",
    "            # replace the previous fittest with the new fittest\n",
    "            population[fittest_index] = fittest\n",
    "\n",
    "        return population\n",
    "\n",
    "    def markov_chain(self, words, seed=3):\n",
    "        # add the seed, defaults to apple\n",
    "        self.composition.append(words[seed].section)\n",
    "        for i in range(27):\n",
    "            randFloat = random.uniform(0, 1)\n",
    "            temp = sorted(self.markov[seed])\n",
    "            for j in range(len(temp)):\n",
    "                if randFloat <= temp[j]:\n",
    "                    index = self.markov[seed].index(temp[j])\n",
    "                    seed = index\n",
    "                    logging.debug(\"seed is {}\".format(seed))\n",
    "                    break\n",
    "            self.composition.append(words[seed].section)\n",
    "\n",
    "    def get_original(self):\n",
    "        segment = self.sampler.get_ogg_sample(\n",
    "            r'./I will give my love an apple.ogg')\n",
    "        words = self.sampler.split_sample(segment)\n",
    "        return segment, words\n",
    "\n",
    "    def introduction(self, original, words, repeat=20):\n",
    "        # original, words = self.get_original()\n",
    "        self.composition.append(original[2000:25000])\n",
    "\n",
    "        rand = random.randint(2, 4)\n",
    "        wordlist = [v.section for k, v in words.items()]\n",
    "        for i in range(rand):\n",
    "            for word in wordlist:\n",
    "                if i == 0:\n",
    "                    self.composition.append(word)\n",
    "                else:\n",
    "                    new_rand = random.randint(0, 100)\n",
    "                    if new_rand < repeat:\n",
    "                        self.composition.append(word)\n",
    "                        self.composition.append(word)\n",
    "                    else:\n",
    "                        self.composition.append(word)\n",
    "        # repeat the original again just to cement it in the brain\n",
    "        for word in wordlist:\n",
    "            self.composition.append(word)\n",
    "\n",
    "    def add_population(self, population):\n",
    "        for i in population:\n",
    "            for segment in i:\n",
    "                self.composition.append(segment.section)\n",
    "\n",
    "    def play(self):\n",
    "        for chunk in self.composition:\n",
    "            pb.play(chunk)\n",
    "\n",
    "    def main(self):\n",
    "        # get original sample\n",
    "        original, words = self.get_original()\n",
    "        # generate exposition\n",
    "        self.introduction(original, words)\n",
    "        target = self.get_deviation([x for k, x in words.items()])\n",
    "        logging.debug(\"target is {}\".format(target))\n",
    "        # pseudo-development\n",
    "        self.markov_chain(words)\n",
    "        # false recapitulation\n",
    "        self.composition.append(original[2500:16000])\n",
    "        # start mutation\n",
    "        devs = []\n",
    "        pop = self.population(words, 4)\n",
    "        self.add_population(pop)\n",
    "        pop = self.mutate(pop, target)\n",
    "        grd = self.grade(pop, target)\n",
    "        # loop until grade approaches our target (here 4.5) or\n",
    "        # until a certain number of iterations have completed. This is\n",
    "        # only to ensure the algorithm runs in 'reasonable' time\n",
    "        i = 0\n",
    "        while grd < 4.5 and i < 3:\n",
    "            pop = self.mutate(pop, target)\n",
    "            self.add_population(pop)\n",
    "            grd = self.grade(pop, target)\n",
    "            i += 1\n",
    "        phased = [ef.invert_phase(x) for x in self.composition[-20:-1]]\n",
    "        self.composition += phased\n",
    "        self.composition.append(original[2000:25000].fade_in(100).fade_out(1000))\n",
    "        # play everything\n",
    "        self.play()\n",
    "\n",
    "if __name__ == '__main__':\n",
    "    music = Composer()\n",
    "    music.main()\n"
   ]
  },
  {
   "cell_type": "code",
   "execution_count": null,
   "metadata": {
    "collapsed": true
   },
   "outputs": [],
   "source": []
  }
 ],
 "metadata": {
  "kernelspec": {
   "display_name": "Python 3",
   "language": "python",
   "name": "python3"
  },
  "language_info": {
   "codemirror_mode": {
    "name": "ipython",
    "version": 3
   },
   "file_extension": ".py",
   "mimetype": "text/x-python",
   "name": "python",
   "nbconvert_exporter": "python",
   "pygments_lexer": "ipython3",
   "version": "3.5.1"
  }
 },
 "nbformat": 4,
 "nbformat_minor": 0
}
